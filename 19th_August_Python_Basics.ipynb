{
 "cells": [
  {
   "cell_type": "markdown",
   "id": "a95c5a82",
   "metadata": {},
   "source": [
    "##### Declare two variables, `x` and `y`, and assign them integer values. Swap the values of these variables without using any temporary variable."
   ]
  },
  {
   "cell_type": "code",
   "execution_count": 1,
   "id": "05f83b6d",
   "metadata": {},
   "outputs": [
    {
     "name": "stdout",
     "output_type": "stream",
     "text": [
      "x = 1\n",
      "y = 2\n"
     ]
    }
   ],
   "source": [
    "x, y = (1, 2)\n",
    "print(f'x =', x)\n",
    "print(f'y =', y)"
   ]
  },
  {
   "cell_type": "code",
   "execution_count": 2,
   "id": "f86aaa9d",
   "metadata": {},
   "outputs": [
    {
     "name": "stdout",
     "output_type": "stream",
     "text": [
      "x = 2\n",
      "y = 1\n"
     ]
    }
   ],
   "source": [
    "y , x = x, y\n",
    "print(f'x =', x)\n",
    "print(f'y =', y)"
   ]
  },
  {
   "cell_type": "markdown",
   "id": "ad4cdc24",
   "metadata": {},
   "source": [
    "##### Create a program that calculates the area of a rectangle. Take the length and width as inputs from the user and store them in variables. Calculate and display the area."
   ]
  },
  {
   "cell_type": "code",
   "execution_count": 3,
   "id": "f46c2878",
   "metadata": {},
   "outputs": [
    {
     "name": "stdout",
     "output_type": "stream",
     "text": [
      "enter the length: 3\n",
      "enter the width: 8\n",
      "area of the rectangle is: 24\n"
     ]
    }
   ],
   "source": [
    "length = int(input('enter the length: '))\n",
    "width = int(input('enter the width: '))\n",
    "area = length * width\n",
    "print(f'area of the rectangle is: {area}')"
   ]
  },
  {
   "cell_type": "markdown",
   "id": "4d83ff81",
   "metadata": {},
   "source": [
    "##### Write a Python program that converts temperatures from Celsius to Fahrenheit. Take the temperature in Celsius as input, store it in a variable, convert it to Fahrenheit, and display the result."
   ]
  },
  {
   "cell_type": "code",
   "execution_count": 4,
   "id": "7d46ed51",
   "metadata": {},
   "outputs": [
    {
     "name": "stdout",
     "output_type": "stream",
     "text": [
      "enter the temperature in celsius: .97\n",
      "the temperature in Fahrenheit is: 33.746\n"
     ]
    }
   ],
   "source": [
    "temperature = float(input('enter the temperature in celsius: '))\n",
    "fahrenheit = (temperature * 1.8) + 32\n",
    "print(f'the temperature in Fahrenheit is: {fahrenheit}')"
   ]
  },
  {
   "cell_type": "markdown",
   "id": "d8d9e374",
   "metadata": {},
   "source": [
    "### String Based Questions"
   ]
  },
  {
   "cell_type": "markdown",
   "id": "8aa51ce3",
   "metadata": {},
   "source": [
    "##### Write a Python program that takes a string as input and prints the length of the string."
   ]
  },
  {
   "cell_type": "code",
   "execution_count": 5,
   "id": "c4cfb210",
   "metadata": {},
   "outputs": [
    {
     "name": "stdout",
     "output_type": "stream",
     "text": [
      "Enter the string: I love python programming\n",
      "The length of the entered string is:  25\n"
     ]
    }
   ],
   "source": [
    "x = input('Enter the string: ')\n",
    "print('The length of the entered string is: ', len(x))"
   ]
  },
  {
   "cell_type": "markdown",
   "id": "d4058a7f",
   "metadata": {},
   "source": [
    "##### Create a program that takes a sentence from the user and counts the number of vowels (a, e, i, o, u) in the string."
   ]
  },
  {
   "cell_type": "code",
   "execution_count": 6,
   "id": "85931143",
   "metadata": {},
   "outputs": [
    {
     "name": "stdout",
     "output_type": "stream",
     "text": [
      "Enter the sentence: I love python programming\n",
      "the number of vowels are: 7\n"
     ]
    }
   ],
   "source": [
    "x = input('Enter the sentence: ').lower()\n",
    "\n",
    "vowels = \"aeiou\"\n",
    "count = 0\n",
    "for letter in x:\n",
    "    if letter in vowels:\n",
    "        count += 1\n",
    "print(f'the number of vowels are: {count}')"
   ]
  },
  {
   "cell_type": "markdown",
   "id": "fb07147d",
   "metadata": {},
   "source": [
    "##### Given a string, reverse the order of characters using string slicing and print the reversed string."
   ]
  },
  {
   "cell_type": "code",
   "execution_count": 7,
   "id": "ff47d3cc",
   "metadata": {},
   "outputs": [
    {
     "name": "stdout",
     "output_type": "stream",
     "text": [
      "Enter the sentence: I love python programming\n",
      "the reverse order of the string is: gnimmargorp nohtyp evol I\n"
     ]
    }
   ],
   "source": [
    "x = input('Enter the sentence: ')\n",
    "x = x[::-1]\n",
    "print(f'the reverse order of the string is: {x}')"
   ]
  },
  {
   "cell_type": "markdown",
   "id": "4cc8885b",
   "metadata": {},
   "source": [
    "##### Write a program that takes a string as input and checks if it is a palindrome (reads the same forwards and backwards)."
   ]
  },
  {
   "cell_type": "code",
   "execution_count": 8,
   "id": "3d44058b",
   "metadata": {},
   "outputs": [
    {
     "name": "stdout",
     "output_type": "stream",
     "text": [
      "Enter a string: malayalam\n",
      "Is a palindrome\n"
     ]
    }
   ],
   "source": [
    "string = input(\"Enter a string: \")\n",
    "reversed = string[::-1]\n",
    "if string == reversed:\n",
    "    print('Is a palindrome')\n",
    "else:\n",
    "    print('Is not a palindrome')"
   ]
  },
  {
   "cell_type": "markdown",
   "id": "e9c015a4",
   "metadata": {},
   "source": [
    "##### Create a program that takes a string as input and removes all the spaces from it. Print the modified string without spaces."
   ]
  },
  {
   "cell_type": "code",
   "execution_count": 9,
   "id": "662394d4",
   "metadata": {},
   "outputs": [
    {
     "name": "stdout",
     "output_type": "stream",
     "text": [
      "Enter a string: I love python programming\n",
      "Ilovepythonprogramming\n"
     ]
    }
   ],
   "source": [
    "string = input(\"Enter a string: \")\n",
    "modified_string = \"\"\n",
    "for char in string:\n",
    "    if char != \" \":\n",
    "        modified_string += char\n",
    "print(modified_string)"
   ]
  }
 ],
 "metadata": {
  "kernelspec": {
   "display_name": "Python 3 (ipykernel)",
   "language": "python",
   "name": "python3"
  },
  "language_info": {
   "codemirror_mode": {
    "name": "ipython",
    "version": 3
   },
   "file_extension": ".py",
   "mimetype": "text/x-python",
   "name": "python",
   "nbconvert_exporter": "python",
   "pygments_lexer": "ipython3",
   "version": "3.10.9"
  }
 },
 "nbformat": 4,
 "nbformat_minor": 5
}
