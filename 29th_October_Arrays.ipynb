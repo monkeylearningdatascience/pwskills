{
 "cells": [
  {
   "cell_type": "markdown",
   "id": "f803f287",
   "metadata": {},
   "source": [
    "#### Given an array, check if it contains any duplicates or not. \n",
    "##### arr = [1, 2, 4, 2, 5, 9] "
   ]
  },
  {
   "cell_type": "code",
   "execution_count": 1,
   "id": "f1579fde",
   "metadata": {},
   "outputs": [
    {
     "name": "stdout",
     "output_type": "stream",
     "text": [
      "True\n"
     ]
    }
   ],
   "source": [
    "def duplicate(arr, i =0):\n",
    "    # Check if the array has only one element\n",
    "    if i == len(arr) - 1:\n",
    "        return False\n",
    "    \n",
    "    # Check if the array has more than one element and has duplicates\n",
    "    if arr[i] in arr[i + 1:]:\n",
    "        return True\n",
    "    \n",
    "    return duplicate(arr, i+1)\n",
    "\n",
    "arr = [1, 2, 4, 2, 5, 9]\n",
    "print(duplicate(arr))"
   ]
  },
  {
   "cell_type": "markdown",
   "id": "8f36fc94",
   "metadata": {},
   "source": [
    "#### Given an array and an integer k, rotate the array to the right by k steps. \n",
    "\n",
    "##### arr = [1, 2, 3, 4, 5, 6, 7] k = 3"
   ]
  },
  {
   "cell_type": "code",
   "execution_count": 2,
   "id": "ab5fad06",
   "metadata": {},
   "outputs": [
    {
     "name": "stdout",
     "output_type": "stream",
     "text": [
      "[5, 6, 7, 1, 2, 3, 4]\n"
     ]
    }
   ],
   "source": [
    "def rotate_array(arr, k):\n",
    "    k %= len(arr)\n",
    "\n",
    "    # Create a temporary array to store the last k elements\n",
    "    temp = arr[-k:]\n",
    "\n",
    "    # Shift the remaining elements to the right by k positions\n",
    "    for i in range(len(arr) - k - 1, -1, -1):\n",
    "        arr[i + k] = arr[i]\n",
    "\n",
    "    # Copy the last k elements from the temporary array to the beginning of the original array\n",
    "    for i in range(k):\n",
    "        arr[i] = temp[i]\n",
    "\n",
    "# Example usage:\n",
    "arr = [1, 2, 3, 4, 5, 6, 7]\n",
    "k = 3\n",
    "rotate_array(arr, k)\n",
    "print(arr)"
   ]
  },
  {
   "cell_type": "markdown",
   "id": "d4930aea",
   "metadata": {},
   "source": [
    "#### Reverse the given array in-place, means without using any extra data structure. \n",
    "##### arr = [2, 4, 5, 7, 9, 12] "
   ]
  },
  {
   "cell_type": "code",
   "execution_count": 3,
   "id": "4057ec4a",
   "metadata": {},
   "outputs": [
    {
     "name": "stdout",
     "output_type": "stream",
     "text": [
      "[12, 9, 7, 5, 4, 2]\n"
     ]
    }
   ],
   "source": [
    "def reverse_in_place(arr):\n",
    "    left = 0\n",
    "    right = len(arr) - 1\n",
    "\n",
    "    while left < right:\n",
    "        arr[left], arr[right] = arr[right], arr[left]\n",
    "        left += 1\n",
    "        right -= 1\n",
    "\n",
    "# Example usage:\n",
    "arr = [2, 4, 5, 7, 9, 12]\n",
    "reverse_in_place(arr)\n",
    "print(arr)"
   ]
  },
  {
   "cell_type": "markdown",
   "id": "241503db",
   "metadata": {},
   "source": [
    "#### Given an array of integers, find the maximum element in an array\n",
    "##### arr = [10, 5, 20, 8, 15]"
   ]
  },
  {
   "cell_type": "code",
   "execution_count": 4,
   "id": "78aacbd0",
   "metadata": {},
   "outputs": [
    {
     "name": "stdout",
     "output_type": "stream",
     "text": [
      "The maximum number in the given array [10, 5, 20, 8, 15] is: 20\n"
     ]
    }
   ],
   "source": [
    "def find_max_element(arr):\n",
    "    max_element = arr[0]\n",
    "    for i in range(1, len(arr)):\n",
    "        if arr[i] > max_element:\n",
    "            max_element = arr[i]\n",
    "    return max_element\n",
    "\n",
    "# Example usage:\n",
    "arr = [10, 5, 20, 8, 15]\n",
    "max_value = find_max_element(arr)\n",
    "print(f'The maximum number in the given array {arr} is: {max_value}')"
   ]
  },
  {
   "cell_type": "markdown",
   "id": "21f9fc11",
   "metadata": {},
   "source": [
    "#### Given a sorted array, remove the duplicate element without using any extra data structure. \n",
    "##### arr = [1, 1, 2, 2, 2, 3, 3, 4, 4, 4, 5, 5] "
   ]
  },
  {
   "cell_type": "code",
   "execution_count": 5,
   "id": "3aca0f25",
   "metadata": {},
   "outputs": [
    {
     "name": "stdout",
     "output_type": "stream",
     "text": [
      "[1, 2, 3, 4, 5]\n"
     ]
    }
   ],
   "source": [
    "def remove_duplicates(arr):\n",
    "    i = 0\n",
    "    for j in range(1, len(arr)):\n",
    "        if arr[j] != arr[i]:\n",
    "            i += 1\n",
    "            arr[i] = arr[j]\n",
    "    return arr[:i + 1]\n",
    "\n",
    "# Example usage:\n",
    "arr = [1, 1, 2, 2, 2, 3, 3, 4, 4, 4, 5, 5]\n",
    "arr = remove_duplicates(arr)\n",
    "print(arr)"
   ]
  }
 ],
 "metadata": {
  "kernelspec": {
   "display_name": "Python 3 (ipykernel)",
   "language": "python",
   "name": "python3"
  },
  "language_info": {
   "codemirror_mode": {
    "name": "ipython",
    "version": 3
   },
   "file_extension": ".py",
   "mimetype": "text/x-python",
   "name": "python",
   "nbconvert_exporter": "python",
   "pygments_lexer": "ipython3",
   "version": "3.10.9"
  }
 },
 "nbformat": 4,
 "nbformat_minor": 5
}
